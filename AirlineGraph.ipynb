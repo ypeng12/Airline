{
  "nbformat": 4,
  "nbformat_minor": 0,
  "metadata": {
    "colab": {
      "provenance": [],
      "authorship_tag": "ABX9TyOdgkFEsNjZ5QhZGSrjytEP",
      "include_colab_link": true
    },
    "kernelspec": {
      "name": "python3",
      "display_name": "Python 3"
    },
    "language_info": {
      "name": "python"
    }
  },
  "cells": [
    {
      "cell_type": "markdown",
      "metadata": {
        "id": "view-in-github",
        "colab_type": "text"
      },
      "source": [
        "<a href=\"https://colab.research.google.com/github/ypeng12/Airline/blob/main/AirlineGraph.ipynb\" target=\"_parent\"><img src=\"https://colab.research.google.com/assets/colab-badge.svg\" alt=\"Open In Colab\"/></a>"
      ]
    },
    {
      "cell_type": "markdown",
      "source": [
        "sort the time\n",
        "\n",
        "get the csv and got the total time for the flight"
      ],
      "metadata": {
        "id": "-0mlcXUJleXs"
      }
    },
    {
      "cell_type": "markdown",
      "source": [
        "when the csv is inlcudes AM or PM"
      ],
      "metadata": {
        "id": "2AZdb1hoZTnY"
      }
    },
    {
      "cell_type": "code",
      "source": [
        "import pandas as pd\n",
        "import os\n",
        "\n",
        "def group_flights_by_interval(file_path, interval_minutes):\n",
        "    # Extract the name from the file path\n",
        "    file_name = os.path.basename(file_path).split('_')[0]\n",
        "\n",
        "    # Read the CSV file\n",
        "    df = pd.read_csv(file_path)\n",
        "\n",
        "    # Convert 'Sched.' to datetime and extract the time in minutes\n",
        "    df['Sched.'] = pd.to_datetime(df['Sched.'], format='%I:%M %p', errors='coerce')\n",
        "    df['Minutes'] = df['Sched.'].dt.hour * 60 + df['Sched.'].dt.minute\n",
        "\n",
        "    # Calculate the interval bin for each flight\n",
        "    df['Interval'] = (df['Minutes'] // interval_minutes) * interval_minutes\n",
        "\n",
        "    # Create a column for the exact interval time\n",
        "    df['Interval Time'] = pd.to_datetime(df['Interval'], unit='m').dt.strftime('%H:%M')\n",
        "\n",
        "    # Group by the interval time and count the number of flights\n",
        "    grouped_flights = df.groupby('Interval Time').size().reset_index(name=file_name)\n",
        "\n",
        "    return grouped_flights\n",
        "\n",
        "def process_all_files(directory_path, interval_minutes, output_file):\n",
        "    all_data = None\n",
        "\n",
        "    for file_name in os.listdir(directory_path):\n",
        "        file_path = os.path.join(directory_path, file_name)\n",
        "        if os.path.isfile(file_path):\n",
        "            grouped_flights = group_flights_by_interval(file_path, interval_minutes)\n",
        "            if all_data is None:\n",
        "                all_data = grouped_flights\n",
        "            else:\n",
        "                all_data = pd.merge(all_data, grouped_flights, on='Interval Time', how='outer')\n",
        "\n",
        "    # Fill NaN values with 0 and save the combined data to a CSV file\n",
        "    all_data = all_data.fillna(0)\n",
        "    all_data.to_csv(output_file, index=False)\n",
        "\n",
        "# Example usage\n",
        "directory_path = '/mnt/hawaii0702'  # Adjust this to your actual directory path\n",
        "output_file = '/mnt/data/0702_status.csv'  # Adjust this to your desired output file path\n",
        "interval_minutes = 30  # Set this to the desired interval in minutes\n",
        "\n",
        "# Process all files and save the combined data\n",
        "process_all_files(directory_path, interval_minutes, output_file)\n",
        "\n",
        "print(f\"Combined flight data saved to: {output_file}\")\n"
      ],
      "metadata": {
        "colab": {
          "base_uri": "https://localhost:8080/"
        },
        "id": "I6zM24dR9mxR",
        "outputId": "4efe30a7-7f20-477f-bbb4-2098a59d2d50"
      },
      "execution_count": 92,
      "outputs": [
        {
          "output_type": "stream",
          "name": "stdout",
          "text": [
            "Combined flight data saved to: /mnt/data/0704_status.csv\n"
          ]
        }
      ]
    },
    {
      "cell_type": "markdown",
      "source": [
        "when the code not include PM or AM"
      ],
      "metadata": {
        "id": "Old8_0GWZboe"
      }
    },
    {
      "cell_type": "code",
      "execution_count": 98,
      "metadata": {
        "id": "FaeB0hPLitQG",
        "colab": {
          "base_uri": "https://localhost:8080/"
        },
        "outputId": "a5a82ede-21ae-4813-f174-72b01cfcfdc8"
      },
      "outputs": [
        {
          "output_type": "stream",
          "name": "stdout",
          "text": [
            "Combined flight data saved to: /mnt/data/0702_status.csv\n"
          ]
        }
      ],
      "source": [
        "import pandas as pd\n",
        "import os\n",
        "\n",
        "def group_flights_by_interval(file_path, interval_minutes):\n",
        "    # Extract the name from the file path\n",
        "    file_name = os.path.basename(file_path).split('_')[0]\n",
        "\n",
        "    # Read the CSV file\n",
        "    df = pd.read_csv(file_path)\n",
        "\n",
        "    # Convert 'Sched.' to datetime and extract the time in minutes\n",
        "    df['Sched.'] = pd.to_datetime(df['Sched.'], format='%H:%M', errors='coerce')\n",
        "    df['Minutes'] = df['Sched.'].dt.hour * 60 + df['Sched.'].dt.minute\n",
        "\n",
        "    # Calculate the interval bin for each flight\n",
        "    df['Interval'] = (df['Minutes'] // interval_minutes) * interval_minutes\n",
        "\n",
        "    # Create a column for the exact interval time\n",
        "    df['Interval Time'] = pd.to_datetime(df['Interval'], unit='m').dt.strftime('%H:%M')\n",
        "\n",
        "    # Group by the interval time and count the number of flights\n",
        "    grouped_flights = df.groupby('Interval Time').size().reset_index(name=file_name)\n",
        "\n",
        "    return grouped_flights\n",
        "\n",
        "def process_all_files(directory_path, interval_minutes, output_file):\n",
        "    all_data = None\n",
        "\n",
        "    for file_name in os.listdir(directory_path):\n",
        "        file_path = os.path.join(directory_path, file_name)\n",
        "        if os.path.isfile(file_path):\n",
        "            grouped_flights = group_flights_by_interval(file_path, interval_minutes)\n",
        "            if all_data is None:\n",
        "                all_data = grouped_flights\n",
        "            else:\n",
        "                all_data = pd.merge(all_data, grouped_flights, on='Interval Time', how='outer')\n",
        "\n",
        "    # Fill NaN values with 0 and save the combined data to a CSV file\n",
        "    all_data = all_data.fillna(0)\n",
        "    all_data.to_csv(output_file, index=False)\n",
        "\n",
        "# Example usage\n",
        "directory_path = '/mnt/hawaii0702'  # Adjust this to your actual directory path\n",
        "output_file = '/mnt/data/0702_status.csv'  # Adjust this to your desired output file path\n",
        "interval_minutes = 30  # Set this to the desired interval in minutes\n",
        "\n",
        "# Process all files and save the combined data\n",
        "process_all_files(directory_path, interval_minutes, output_file)\n",
        "\n",
        "print(f\"Combined flight data saved to: {output_file}\")\n"
      ]
    },
    {
      "cell_type": "markdown",
      "source": [
        "got the file in data and could change by type the int\n"
      ],
      "metadata": {
        "id": "oZr0PQkf9Fl0"
      }
    },
    {
      "cell_type": "code",
      "source": [
        "\n",
        "# Load the combined data for plotting\n",
        "grouped_file_path = output_file\n",
        "grouped_flights = pd.read_csv(grouped_file_path)\n",
        "\n",
        "# Ensure 'Interval Time' is treated as a string for plotting\n",
        "grouped_flights['Interval Time'] = pd.to_datetime(grouped_flights['Interval Time'], format='%H:%M')\n",
        "\n",
        "# Generate a complete range of intervals for the day\n",
        "# Need to change the time zone\n",
        "time_range = pd.date_range(start='00:00', end='23:59', freq='30T').strftime('%H:%M')\n",
        "complete_range = pd.DataFrame(time_range, columns=['Interval Time'])\n",
        "\n",
        "# Convert 'Interval Time' in both DataFrames to string for merging\n",
        "grouped_flights['Interval Time'] = grouped_flights['Interval Time'].dt.strftime('%H:%M')\n",
        "\n",
        "# Merge this complete range with the flight data\n",
        "merged_flights = complete_range.merge(grouped_flights, on='Interval Time', how='left').fillna(0)\n",
        "\n",
        "# Convert flight count columns to integer, excluding the 'Interval Time' column\n",
        "flight_count_columns = merged_flights.columns.difference(['Interval Time'])\n",
        "merged_flights[flight_count_columns] = merged_flights[flight_count_columns].astype(int)\n",
        "\n",
        "# Plot the data\n",
        "plt.figure(figsize=(15, 10))\n",
        "\n",
        "# Plotting the stacked bar chart\n",
        "bottom = None\n",
        "colors = ['b', 'r', 'g', 'c', 'm', 'y', 'k']  # Define colors for each airport\n",
        "\n",
        "for idx, column in enumerate(flight_count_columns):\n",
        "    if bottom is None:\n",
        "        plt.bar(merged_flights['Interval Time'], merged_flights[column], color=colors[idx % len(colors)], label=column)\n",
        "        bottom = merged_flights[column]\n",
        "    else:\n",
        "        plt.bar(merged_flights['Interval Time'], merged_flights[column], bottom=bottom, color=colors[idx % len(colors)], label=column)\n",
        "        bottom += merged_flights[column]\n",
        "\n",
        "# Add title and labels\n",
        "plt.title('0702 - Number of Flights by 30-Minute Intervals')\n",
        "plt.xlabel('Time')\n",
        "plt.ylabel('Number of Flights')\n",
        "\n",
        "# Rotate the x-axis labels for better readability\n",
        "plt.xticks(rotation=90, ticks=range(0, len(merged_flights), 1))\n",
        "\n",
        "# Add grid for better readability\n",
        "plt.grid(axis='y')\n",
        "\n",
        "# Add legend\n",
        "plt.legend()\n",
        "\n",
        "# Display the plot\n",
        "plt.tight_layout()\n",
        "plt.show()"
      ],
      "metadata": {
        "colab": {
          "base_uri": "https://localhost:8080/",
          "height": 557
        },
        "id": "XGMV1p7ktoay",
        "outputId": "c8937ae9-9ead-4a60-9224-3237b0dbf6d3"
      },
      "execution_count": 99,
      "outputs": [
        {
          "output_type": "display_data",
          "data": {
            "text/plain": [
              "<Figure size 1500x1000 with 1 Axes>"
            ],
            "image/png": "[encoded data removed]"
          },
          "metadata": {}
        }
      ]
    },
    {
      "cell_type": "code",
      "source": [],
      "metadata": {
        "id": "_TbTrZdNPd-X"
      },
      "execution_count": null,
      "outputs": []
    }
  ]
}