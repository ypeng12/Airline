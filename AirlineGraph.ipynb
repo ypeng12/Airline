{
  "nbformat": 4,
  "nbformat_minor": 0,
  "metadata": {
    "colab": {
      "provenance": [],
      "authorship_tag": "ABX9TyPSi2WohGKnOWCQMGTwPVEA",
      "include_colab_link": true
    },
    "kernelspec": {
      "name": "python3",
      "display_name": "Python 3"
    },
    "language_info": {
      "name": "python"
    }
  },
  "cells": [
    {
      "cell_type": "markdown",
      "metadata": {
        "id": "view-in-github",
        "colab_type": "text"
      },
      "source": [
        "<a href=\"https://colab.research.google.com/github/ypeng12/Airline/blob/main/AirlineGraph.ipynb\" target=\"_parent\"><img src=\"https://colab.research.google.com/assets/colab-badge.svg\" alt=\"Open In Colab\"/></a>"
      ]
    },
    {
      "cell_type": "markdown",
      "source": [
        "sort the time\n",
        "\n",
        "get the csv and got the total time for the flight"
      ],
      "metadata": {
        "id": "-0mlcXUJleXs"
      }
    },
    {
      "cell_type": "code",
      "source": [
        "import pandas as pd\n",
        "import os\n",
        "import re\n",
        "from datetime import datetime\n",
        "\n",
        "# Define the raw data\n",
        "raw_data = \"\"\"\n",
        "\n",
        "\n",
        "HA\tHawaiian Airlines\n",
        "HA204\n",
        "\tKE7754\n",
        "\tJL6609\n",
        "\tDL6841\n",
        "\tB65853\n",
        "Honolulu, HIIn Air11:10 AM11:07 AM\n",
        "AS\tAlaska Airlines\n",
        "AS840\n",
        "Seattle, WAIn Air11:13 AM11:06 AM10\n",
        "HA\tHawaiian Airlines\n",
        "HA234\n",
        "\tUA7874\n",
        "\tJL6607\n",
        "\tDL6848\n",
        "\tB65848\n",
        "Honolulu, HIScheduled11:45 AM\n",
        "WN\tSouthwest Airlines\n",
        "WN2355\n",
        "Honolulu, HIScheduled11:50 AM11:50 AM7\n",
        "HA\tHawaiian Airlines\n",
        "HA66\n",
        "Sacramento, CAScheduled12:00 PM\n",
        "HA\tHawaiian Airlines\n",
        "HA254\n",
        "\tUA7849\n",
        "\tJL6610\n",
        "\tDL6825\n",
        "\tB65880\n",
        "\tAA7873\n",
        "Honolulu, HIScheduled12:25 PM\n",
        "UA\tUnited Airlines\n",
        "UA1563\n",
        "\tLH8932\n",
        "\tAV2357\n",
        "San Francisco, CAScheduled12:52 PM12:52 PM8\n",
        "AS\tAlaska Airlines\n",
        "AS577\n",
        "\tAA9348\n",
        "San Jose, CAScheduled12:59 PM12:59 PM10\n",
        "HA\tHawaiian Airlines\n",
        "HA264\n",
        "\tJL6612\n",
        "\tDL6851\n",
        "\tB65888\n",
        "\tAA7870\n",
        "Honolulu, HIScheduled1:03 PM\n",
        "HA\tHawaiian Airlines\n",
        "HA68\n",
        "Oakland, CAScheduled1:05 PM\n",
        "UA\tUnited Airlines\n",
        "UA466\n",
        "\tAV2258\n",
        "\tAC3502\n",
        "Los Angeles, CAScheduled1:09 PM1:09 PM9\n",
        "HA\tHawaiian Airlines\n",
        "HA64\n",
        "Los Angeles, CAScheduled1:35 PM\n",
        "AA\tAmerican Airlines\n",
        "AA266\n",
        "Los Angeles, CAScheduled1:42 PM1:42 PM6\n",
        "HA\tHawaiian Airlines\n",
        "HA274\n",
        "\tJL6613\n",
        "\tDL6852\n",
        "Honolulu, HIScheduled1:59 PM\n",
        " \"\"\"\n",
        "\n",
        "# Split the data into lines\n",
        "lines = raw_data.split('\\n')\n",
        "data = []\n",
        "\n",
        "# Initialize variables for processing\n",
        "airline = airline_code = flight = to = sched = updated = None\n",
        "status_keywords = {\"In\", \"Arrived\", \"Scheduled\", \"Delayed\", \"Landed\", \"No\", \"Departed\",\"Cancelled\"}\n",
        "\n",
        "def is_flight_number(s, airline_code):\n",
        "    return s.startswith(airline_code) and any(char.isdigit() for char in s)\n",
        "\n",
        "def extract_to_and_status(parts):\n",
        "    combined = ' '.join(parts)\n",
        "    for keyword in status_keywords:\n",
        "        if keyword in combined:\n",
        "            to_part, status_part = combined.split(keyword, 1)\n",
        "            return to_part.strip(), keyword, status_part.strip()\n",
        "    return combined, \"\", \"\"\n",
        "\n",
        "def extract_times(remaining):\n",
        "    time_pattern = r'\\d{1,2}:\\d{2} [AP]M'\n",
        "    times = re.findall(time_pattern, remaining)\n",
        "    converted_times = [convert_time(t) for t in times]\n",
        "    return converted_times\n",
        "\n",
        "def convert_time(time_str):\n",
        "    # Parse the time using datetime and convert to 24-hour format\n",
        "    return datetime.strptime(time_str, '%I:%M %p').strftime('%H:%M')\n",
        "\n",
        "for i, line in enumerate(lines):\n",
        "    parts = line.split()\n",
        "\n",
        "    if not parts:\n",
        "        continue  # Skip empty lines\n",
        "\n",
        "    if i+1 < len(lines) and parts and lines[i+1].split() and is_flight_number(lines[i+1].split()[0], parts[0]):\n",
        "        airline = line\n",
        "        airline_code = parts[0]\n",
        "    elif airline_code and parts and is_flight_number(parts[0], airline_code):\n",
        "        flight = parts[0]\n",
        "    else:\n",
        "        to, status, remaining = extract_to_and_status(parts)\n",
        "        if ',' not in to:\n",
        "            continue\n",
        "        times = extract_times(remaining)\n",
        "        sched = times[0] if times else \"\"\n",
        "        updated = times[1] if len(times) > 1 else \"\"\n",
        "\n",
        "        data.append([airline_code, flight, to, sched, updated])\n",
        "        flight = to = sched = updated = None\n",
        "\n",
        "# Define column names\n",
        "columns = ['Airline', 'Flight', 'To', 'Sched.', 'Updated']\n",
        "\n",
        "# Create a DataFrame\n",
        "df = pd.DataFrame(data, columns=columns)\n",
        "\n",
        "# Define the path to the Downloads directory\n",
        "downloads_directory = os.path.expanduser('~/Hawaii')\n",
        "os.makedirs(downloads_directory, exist_ok=True)\n",
        "\n",
        "# Define the full path to the CSV file\n",
        "csv_file = os.path.join(downloads_directory, 'Lihue_0705_2024.csv')\n",
        "excel_file = os.path.join(downloads_directory, 'Lihue_0705_2024.xlsx')\n",
        "\n",
        "# Save the DataFrame to a CSV file\n",
        "df.to_csv(csv_file, index=False)\n",
        "print(f\"Data has been written to {csv_file}\")\n",
        "\n",
        "# Save the DataFrame to an Excel file\n",
        "df.to_excel(excel_file, index=False)\n",
        "print(f\"Data has been written to {excel_file}\")\n"
      ],
      "metadata": {
        "colab": {
          "base_uri": "https://localhost:8080/"
        },
        "id": "QujoEFOnmGOf",
        "outputId": "a5574ac8-342a-42a7-96c8-69e111ec6162"
      },
      "execution_count": 3,
      "outputs": [
        {
          "output_type": "stream",
          "name": "stdout",
          "text": [
            "Data has been written to /root/Hawaii/Lihue_0705_2024.csv\n",
            "Data has been written to /root/Hawaii/Lihue_0705_2024.xlsx\n"
          ]
        }
      ]
    },
    {
      "cell_type": "code",
      "source": [],
      "metadata": {
        "id": "I6zM24dR9mxR"
      },
      "execution_count": null,
      "outputs": []
    },
    {
      "cell_type": "code",
      "execution_count": 18,
      "metadata": {
        "id": "FaeB0hPLitQG",
        "colab": {
          "base_uri": "https://localhost:8080/"
        },
        "outputId": "4ac95596-2fab-4c06-91d9-913456591a21"
      },
      "outputs": [
        {
          "output_type": "stream",
          "name": "stdout",
          "text": [
            "Combined flight data saved to: /mnt/data/flight_status.csv\n"
          ]
        }
      ],
      "source": [
        "import pandas as pd\n",
        "import os\n",
        "\n",
        "def group_flights_by_interval(file_path, interval_minutes):\n",
        "    # Extract the name from the file path\n",
        "    file_name = os.path.basename(file_path).split('_')[0]\n",
        "\n",
        "    # Read the CSV file\n",
        "    df = pd.read_csv(file_path)\n",
        "\n",
        "    # Convert 'Sched.' to datetime and extract the time in minutes\n",
        "    df['Sched.'] = pd.to_datetime(df['Sched.'], format='%H:%M', errors='coerce')\n",
        "    df['Minutes'] = df['Sched.'].dt.hour * 60 + df['Sched.'].dt.minute\n",
        "\n",
        "    # Calculate the interval bin for each flight\n",
        "    df['Interval'] = (df['Minutes'] // interval_minutes) * interval_minutes\n",
        "\n",
        "    # Create a column for the exact interval time\n",
        "    df['Interval Time'] = pd.to_datetime(df['Interval'], unit='m').dt.strftime('%H:%M')\n",
        "\n",
        "    # Group by the interval time and count the number of flights\n",
        "    grouped_flights = df.groupby('Interval Time').size().reset_index(name=file_name)\n",
        "\n",
        "    return grouped_flights\n",
        "\n",
        "def process_all_files(directory_path, interval_minutes, output_file):\n",
        "    all_data = None\n",
        "\n",
        "    for file_name in os.listdir(directory_path):\n",
        "        file_path = os.path.join(directory_path, file_name)\n",
        "        if os.path.isfile(file_path):\n",
        "            grouped_flights = group_flights_by_interval(file_path, interval_minutes)\n",
        "            if all_data is None:\n",
        "                all_data = grouped_flights\n",
        "            else:\n",
        "                all_data = pd.merge(all_data, grouped_flights, on='Interval Time', how='outer')\n",
        "\n",
        "    # Fill NaN values with 0 and save the combined data to a CSV file\n",
        "    all_data = all_data.fillna(0)\n",
        "    all_data.to_csv(output_file, index=False)\n",
        "\n",
        "# Example usage\n",
        "directory_path = '/mnt/hawaii'  # Adjust this to your actual directory path\n",
        "output_file = '/mnt/data/flight_status.csv'  # Adjust this to your desired output file path\n",
        "interval_minutes = 30  # Set this to the desired interval in minutes\n",
        "\n",
        "# Process all files and save the combined data\n",
        "process_all_files(directory_path, interval_minutes, output_file)\n",
        "\n",
        "print(f\"Combined flight data saved to: {output_file}\")\n"
      ]
    },
    {
      "cell_type": "markdown",
      "source": [
        "got the file in data and could change by type the int\n"
      ],
      "metadata": {
        "id": "oZr0PQkf9Fl0"
      }
    },
    {
      "cell_type": "code",
      "source": [],
      "metadata": {
        "id": "Rga3Zw7T9FWX"
      },
      "execution_count": null,
      "outputs": []
    },
    {
      "cell_type": "code",
      "source": [
        "\n",
        "# Load the combined data for plotting\n",
        "grouped_file_path = output_file\n",
        "grouped_flights = pd.read_csv(grouped_file_path)\n",
        "\n",
        "# Ensure 'Interval Time' is treated as a string for plotting\n",
        "grouped_flights['Interval Time'] = pd.to_datetime(grouped_flights['Interval Time'], format='%H:%M')\n",
        "\n",
        "# Generate a complete range of intervals for the day\n",
        "time_range = pd.date_range(start='00:00', end='23:59', freq='30T').strftime('%H:%M')\n",
        "complete_range = pd.DataFrame(time_range, columns=['Interval Time'])\n",
        "\n",
        "# Convert 'Interval Time' in both DataFrames to string for merging\n",
        "grouped_flights['Interval Time'] = grouped_flights['Interval Time'].dt.strftime('%H:%M')\n",
        "\n",
        "# Merge this complete range with the flight data\n",
        "merged_flights = complete_range.merge(grouped_flights, on='Interval Time', how='left').fillna(0)\n",
        "\n",
        "# Convert flight count columns to integer, excluding the 'Interval Time' column\n",
        "flight_count_columns = merged_flights.columns.difference(['Interval Time'])\n",
        "merged_flights[flight_count_columns] = merged_flights[flight_count_columns].astype(int)\n",
        "\n",
        "# Plot the data\n",
        "plt.figure(figsize=(20, 10))\n",
        "\n",
        "# Plotting the stacked bar chart\n",
        "bottom = None\n",
        "colors = ['b', 'r', 'g', 'c', 'm', 'y', 'k']  # Define colors for each airport\n",
        "\n",
        "for idx, column in enumerate(flight_count_columns):\n",
        "    if bottom is None:\n",
        "        plt.bar(merged_flights['Interval Time'], merged_flights[column], color=colors[idx % len(colors)], label=column)\n",
        "        bottom = merged_flights[column]\n",
        "    else:\n",
        "        plt.bar(merged_flights['Interval Time'], merged_flights[column], bottom=bottom, color=colors[idx % len(colors)], label=column)\n",
        "        bottom += merged_flights[column]\n",
        "\n",
        "# Add title and labels\n",
        "plt.title('Number of Flights by 30-Minute Intervals')\n",
        "plt.xlabel('Time')\n",
        "plt.ylabel('Number of Flights')\n",
        "\n",
        "# Rotate the x-axis labels for better readability\n",
        "plt.xticks(rotation=90, ticks=range(0, len(merged_flights), 3))\n",
        "\n",
        "# Add grid for better readability\n",
        "plt.grid(axis='y')\n",
        "\n",
        "# Add legend\n",
        "plt.legend()\n",
        "\n",
        "# Display the plot\n",
        "plt.tight_layout()\n",
        "plt.show()"
      ],
      "metadata": {
        "colab": {
          "base_uri": "https://localhost:8080/",
          "height": 548
        },
        "id": "XGMV1p7ktoay",
        "outputId": "147c4fb9-3018-482b-9b06-2575ad2560c3"
      },
      "execution_count": 21,
      "outputs": [
        {
          "output_type": "display_data",
          "data": {
            "text/plain": [
              "<Figure size 2000x1000 with 1 Axes>"
            ],
            "image/png": "[encoded data removed]"
          },
          "metadata": {}
        }
      ]
    }
  ]
}